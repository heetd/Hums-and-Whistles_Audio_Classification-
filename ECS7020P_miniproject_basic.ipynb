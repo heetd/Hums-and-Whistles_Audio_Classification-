{
 "cells": [
  {
   "cell_type": "markdown",
   "metadata": {
    "id": "91MsGMTna_P9"
   },
   "source": [
    "# ECS7020P mini-project submission\n",
    "\n",
    "The mini-project consists of two components:\n",
    "\n",
    "\n",
    "1.   **Basic solution** [6 marks]: Using the MLEnd Hums and Whistles dataset, build a machine learning pipeline that takes as an input a Potter or a StarWars audio segment and predicts its song label (either Harry or StarWars).\n",
    "2.   **Advanced solution** [10 marks]: There are two options. (i) Formulate a machine learning problem that can be attempted using the MLEnd Hums and Whistles dataset and build a solution model. (ii) Create a product that uses the functionality provided by a model trained on the MLEnd Hums and Whistles dataset (e.g. a simple App that predicts the label Harry or StarWars when you hum to it).  \n",
    "\n",
    "The submission will consist of two Jupyter notebooks, one for the basic solution and another one for advanced solution. Please **name each notebook**:\n",
    "\n",
    "* ECS7020P_miniproject_basic.ipynb\n",
    "* ECS7020P_miniproject_advanced.ipynb\n",
    "\n",
    "then **zipped and submitted toghether**.\n",
    "\n",
    "Each uploaded notebook should consist of: \n",
    "\n",
    "*   **Text cells**, describing concisely each step and results.\n",
    "*   **Code cells**, implementing each step.\n",
    "*   **Output cells**, i.e. the output from each code cell.\n",
    "\n",
    "and **should have the structure** indicated below. Notebooks will not be run, please make sure that the output cells are saved.\n",
    "\n",
    "How will we evaluate your submission?\n",
    "\n",
    "*   Conciseness in your writing (10%).\n",
    "*   Correctness in your methodology (30%).\n",
    "*   Correctness in your analysis and conclusions (30%).\n",
    "*   Completeness (10%).\n",
    "*   Originality (10%).\n",
    "*   Efforts to try something new (10%).\n",
    "\n",
    "Suggestion: Why don't you use **GitHub** to manage your project? GitHub can be used as a presentation card that showcases what you have done and gives evidence of your data science skills, knowledge and experience. \n",
    "\n",
    "Each notebook should be structured into the following 9 sections:\n"
   ]
  },
  {
   "cell_type": "markdown",
   "metadata": {
    "id": "ZaGn4ICrfqXZ"
   },
   "source": [
    "# 1 Author\n",
    "\n",
    "**Student Name**:  **Heet Desai** <br>\n",
    "**Student ID**:  **170331599**\n",
    "\n"
   ]
  },
  {
   "cell_type": "markdown",
   "metadata": {
    "id": "o38VQkcdKd6k"
   },
   "source": [
    "# 2 Problem formulation\n",
    "\n",
    "Describe the machine learning problem that you want to solve and explain what's interesting about it."
   ]
  },
  {
   "cell_type": "markdown",
   "metadata": {},
   "source": [
    "* We are building a model that takes as an input a Potter or a StarWars audio segment and predicts its song label (either Harry or StarWars)."
   ]
  },
  {
   "cell_type": "markdown",
   "metadata": {
    "id": "N3BwrtEdLDit"
   },
   "source": [
    "# 3 Machine Learning pipeline\n",
    "\n",
    "Describe your ML pipeline. Clearly identify its input and output, any intermediate stages (for instance, transformation -> models), and intermediate data moving from one stage to the next. Note that your pipeline does not need to include all the stages. "
   ]
  },
  {
   "cell_type": "markdown",
   "metadata": {},
   "source": [
    "* The ML pipeline consists of following stages:\n",
    "\n",
    "1) The input are the 4 features that are extrated by the function \"getXy\" from each of the audio files and output is a model trained on the training set which is then used to evaluate the performance of the validation set.\n",
    "\n",
    "2) The features that are inserted in the pipeline are scaled by the class `StandardScalar`. The class `StandardScalar` is fitted to the features in the training set and then it normalizes those features. When the pipeline is then used again to predict the labels for validation or test dataset the fitted transformer is used to transform the features in the validation or test dataset.\n",
    "\n",
    "3) Finally, the model specified in the pipeline is then fitted to the training dataset and the same model is then used to predict the lables for validation or test dataset and to evaluate the performance of the model."
   ]
  },
  {
   "cell_type": "markdown",
   "metadata": {
    "id": "j1nDXnzYLLH6"
   },
   "source": [
    "# 4 Transformation stage\n",
    "\n",
    "Describe any transformations, such as feature extraction. Identify input and output."
   ]
  },
  {
   "cell_type": "markdown",
   "metadata": {},
   "source": [
    "* The input were the audio samples and from each audio sample,using the function \"getXy\", we extracted the following features(output):\n",
    "\n",
    "1) Power <br>\n",
    "2) Pitch-mean <br>\n",
    "3) Pitch-std <br>\n",
    "4) Voiced_fr"
   ]
  },
  {
   "cell_type": "markdown",
   "metadata": {
    "id": "0F5_kI95LuZ2"
   },
   "source": [
    "# 5 Modelling\n",
    "\n",
    "Describe the ML models that you will implement. "
   ]
  },
  {
   "cell_type": "markdown",
   "metadata": {},
   "source": [
    "* Following models will be implemented:<br>\n",
    "1) Logistic Regression Classifier<br>\n",
    "2) K-Nearest Neighbour(KNN)<br>\n",
    "3) Random Forest Classifier"
   ]
  },
  {
   "cell_type": "markdown",
   "metadata": {
    "id": "bPTSuaB9L2jU"
   },
   "source": [
    "# 6 Methodology\n",
    "\n",
    "Describe how you will train and validate your models, how model performance is assesssed (i.e. accuracy, confusion matrix, etc)"
   ]
  },
  {
   "cell_type": "markdown",
   "metadata": {},
   "source": [
    "* First, we will obtain the dataset of audio files,then we will shuffle it and then use the function \"getXy\" to obtain a NumPy array containing the 4 audio features which will be used as predictors (`X_basic`) and a binary label (`y_basic`), that indicates whether the song  is Potter `(y=1)` or StarWars `(y=0)`.\n",
    "\n",
    "\n",
    "* After that, we will split the X_basic and y_basic into two set called `X_train_val` and `X_test` using the module `train_test_split` from sklearn library, so `X_test` and `y_test` set now contain 20% of the instances in the original `X_basic` and `y_basic`. Again, using the module `train_test_split` we will split the `train_val` into training set and validaton set with validation sets `X_val` and `y_val` now containing 20% of the instances in the dataset `X_train_val` and `y_train_val`.\n",
    "\n",
    "\n",
    "* Then we will fit `StandardScalar` on the `X_train` set and after fitting it to the `X_train` set we will transform the sets `X_train` and `X_val`. From this, we will obtain the normalized dataset `X_train_scaled` and`X_val_scaled`.\n",
    "\n",
    "\n",
    "* We will train our models on `X_training_scaled` set and then we will use `X_val_scaled` set to assess and select different families of models. We will assess the model performance by computing `TPR`, `FPR`, `Precision`, `Recall` and `F1-score`. We will also plot `ROC curve` and compute `AUC score` to identify the best classifier.\n",
    "\n",
    "\n",
    "* After identifying the best classifier, we will train our chosen model on `X_train_val` and `y_train_val` and test it on `X_test` set.\n",
    "\n",
    "\n"
   ]
  },
  {
   "cell_type": "markdown",
   "metadata": {
    "id": "HZQPxztuL9AW"
   },
   "source": [
    "# 7 Dataset\n",
    "\n",
    "Describe the dataset that you will use to create your models and validate them. If you need to preprocess it, do it here. Include visualisations too. You can visualise raw data samples or extracted features."
   ]
  },
  {
   "cell_type": "code",
   "execution_count": 1,
   "metadata": {},
   "outputs": [],
   "source": [
    "import numpy as np\n",
    "import pandas as pd\n",
    "import matplotlib.pyplot as plt\n",
    "\n",
    "import glob\n",
    "import librosa"
   ]
  },
  {
   "cell_type": "code",
   "execution_count": 2,
   "metadata": {},
   "outputs": [],
   "source": [
    "# We will load path to all the Potter songs and StarWars song\n",
    "sample_path = r'C:\\Users\\HEET\\Desktop\\Principles of Machine Learning\\Project\\Potter\\sample\\*.wav'\n",
    "Potter_files = glob.glob(sample_path) # list contains the paths to where each Potter audio sample is stored\n",
    "#len(Potter_files)\n",
    "\n",
    "sample_path = r'C:\\Users\\HEET\\Desktop\\Principles of Machine Learning\\Project\\StarWars\\sample\\*.wav'\n",
    "StarWars_files = glob.glob(sample_path) # list contains the paths to where each Potter audio sample is stored\n",
    "#len(StarWars_files)\n",
    "\n",
    "from sklearn.utils import shuffle\n",
    "files = Potter_files + StarWars_files\n",
    "\n",
    "# First 210 files are Potter audio samples and last 210 samples are StarWars\n",
    "# Hence we shuffled files to avoid the situation where after the split any of the set contains samples of either labels more\n",
    "files = shuffle(files) "
   ]
  },
  {
   "cell_type": "code",
   "execution_count": 3,
   "metadata": {},
   "outputs": [],
   "source": [
    "Potter_data=[]\n",
    "for file in Potter_files:\n",
    "    Potter_data.append([file.split(\"\\\\\")[-1],\"Potter\"])\n",
    "\n",
    "StarWars_data=[]\n",
    "for file in StarWars_files:\n",
    "    StarWars_data.append([file.split(\"\\\\\")[-1],\"StarWars\"])\n",
    "\n",
    "df = Potter_data + StarWars_data\n",
    "basic_df = pd.DataFrame(df,columns=['file_id','song']).set_index('file_id') \n",
    "\n",
    "#basic_df"
   ]
  },
  {
   "cell_type": "code",
   "execution_count": 4,
   "metadata": {},
   "outputs": [],
   "source": [
    "def getPitch(x,fs,winLen=0.02):\n",
    "  #winLen = 0.02 \n",
    "  p = winLen*fs\n",
    "  frame_length = int(2**int(p-1).bit_length())\n",
    "  hop_length = frame_length//2\n",
    "  f0, voiced_flag, voiced_probs = librosa.pyin(y=x, fmin=80, fmax=450, sr=fs,\n",
    "                                                 frame_length=frame_length,hop_length=hop_length)\n",
    "  return f0,voiced_flag\n",
    "\n",
    "def getXy(files,labels_file, scale_audio=False, onlySingleDigit=False):\n",
    "  X,y =[],[]\n",
    "  for file in tqdm(files):\n",
    "    fileID = file.split('\\\\')[-1]\n",
    "    file_name = file.split('\\\\')[-1]\n",
    "    yi = labels_file.loc[fileID]['song']=='Potter'\n",
    "\n",
    "    fs = None # if None, fs would be 22050\n",
    "    x, fs = librosa.load(file,sr=fs)\n",
    "    if scale_audio: x = x/np.max(np.abs(x))\n",
    "    f0, voiced_flag = getPitch(x,fs,winLen=0.02)\n",
    "      \n",
    "    power = np.sum(x**2)/len(x)\n",
    "    pitch_mean = np.nanmean(f0) if np.mean(np.isnan(f0))<1 else 0\n",
    "    pitch_std  = np.nanstd(f0) if np.mean(np.isnan(f0))<1 else 0\n",
    "    voiced_fr = np.mean(voiced_flag)\n",
    "\n",
    "    xi = [power,pitch_mean,pitch_std,voiced_fr]\n",
    "    X.append(xi)\n",
    "    y.append(yi)\n",
    "\n",
    "  return np.array(X),np.array(y)"
   ]
  },
  {
   "cell_type": "code",
   "execution_count": null,
   "metadata": {},
   "outputs": [],
   "source": [
    "X,y = getXy(files, labels_file=basic_df, scale_audio=True, onlySingleDigit=True)"
   ]
  },
  {
   "cell_type": "markdown",
   "metadata": {},
   "source": [
    "* After running the above code, we obtained two numpy arrays X and y which I stored as `X_basic` and `y_basic`.\n",
    "* I have loaded them below"
   ]
  },
  {
   "cell_type": "code",
   "execution_count": 6,
   "metadata": {},
   "outputs": [
    {
     "data": {
      "text/html": [
       "<div>\n",
       "<style scoped>\n",
       "    .dataframe tbody tr th:only-of-type {\n",
       "        vertical-align: middle;\n",
       "    }\n",
       "\n",
       "    .dataframe tbody tr th {\n",
       "        vertical-align: top;\n",
       "    }\n",
       "\n",
       "    .dataframe thead th {\n",
       "        text-align: right;\n",
       "    }\n",
       "</style>\n",
       "<table border=\"1\" class=\"dataframe\">\n",
       "  <thead>\n",
       "    <tr style=\"text-align: right;\">\n",
       "      <th></th>\n",
       "      <th>Power</th>\n",
       "      <th>Pitch_mean</th>\n",
       "      <th>Pitch_std</th>\n",
       "      <th>Voiced_fr</th>\n",
       "      <th>Label</th>\n",
       "    </tr>\n",
       "  </thead>\n",
       "  <tbody>\n",
       "    <tr>\n",
       "      <th>0</th>\n",
       "      <td>0.025672</td>\n",
       "      <td>200.222674</td>\n",
       "      <td>35.974147</td>\n",
       "      <td>0.862685</td>\n",
       "      <td>0</td>\n",
       "    </tr>\n",
       "    <tr>\n",
       "      <th>1</th>\n",
       "      <td>0.029710</td>\n",
       "      <td>391.500362</td>\n",
       "      <td>28.445601</td>\n",
       "      <td>0.613358</td>\n",
       "      <td>0</td>\n",
       "    </tr>\n",
       "    <tr>\n",
       "      <th>2</th>\n",
       "      <td>0.030767</td>\n",
       "      <td>184.604440</td>\n",
       "      <td>39.693705</td>\n",
       "      <td>0.713545</td>\n",
       "      <td>1</td>\n",
       "    </tr>\n",
       "    <tr>\n",
       "      <th>3</th>\n",
       "      <td>0.004656</td>\n",
       "      <td>396.343661</td>\n",
       "      <td>32.761819</td>\n",
       "      <td>0.579985</td>\n",
       "      <td>1</td>\n",
       "    </tr>\n",
       "    <tr>\n",
       "      <th>4</th>\n",
       "      <td>0.068337</td>\n",
       "      <td>331.832725</td>\n",
       "      <td>76.053536</td>\n",
       "      <td>0.893667</td>\n",
       "      <td>1</td>\n",
       "    </tr>\n",
       "    <tr>\n",
       "      <th>...</th>\n",
       "      <td>...</td>\n",
       "      <td>...</td>\n",
       "      <td>...</td>\n",
       "      <td>...</td>\n",
       "      <td>...</td>\n",
       "    </tr>\n",
       "    <tr>\n",
       "      <th>415</th>\n",
       "      <td>0.015739</td>\n",
       "      <td>301.623233</td>\n",
       "      <td>54.642763</td>\n",
       "      <td>0.794005</td>\n",
       "      <td>0</td>\n",
       "    </tr>\n",
       "    <tr>\n",
       "      <th>416</th>\n",
       "      <td>0.035386</td>\n",
       "      <td>323.697431</td>\n",
       "      <td>66.708884</td>\n",
       "      <td>0.806427</td>\n",
       "      <td>1</td>\n",
       "    </tr>\n",
       "    <tr>\n",
       "      <th>417</th>\n",
       "      <td>0.048838</td>\n",
       "      <td>138.307890</td>\n",
       "      <td>36.794285</td>\n",
       "      <td>0.821128</td>\n",
       "      <td>1</td>\n",
       "    </tr>\n",
       "    <tr>\n",
       "      <th>418</th>\n",
       "      <td>0.031155</td>\n",
       "      <td>238.537279</td>\n",
       "      <td>66.460017</td>\n",
       "      <td>0.618295</td>\n",
       "      <td>0</td>\n",
       "    </tr>\n",
       "    <tr>\n",
       "      <th>419</th>\n",
       "      <td>0.042347</td>\n",
       "      <td>315.821151</td>\n",
       "      <td>59.334730</td>\n",
       "      <td>0.812991</td>\n",
       "      <td>1</td>\n",
       "    </tr>\n",
       "  </tbody>\n",
       "</table>\n",
       "<p>420 rows × 5 columns</p>\n",
       "</div>"
      ],
      "text/plain": [
       "        Power  Pitch_mean  Pitch_std  Voiced_fr Label\n",
       "0    0.025672  200.222674  35.974147   0.862685     0\n",
       "1    0.029710  391.500362  28.445601   0.613358     0\n",
       "2    0.030767  184.604440  39.693705   0.713545     1\n",
       "3    0.004656  396.343661  32.761819   0.579985     1\n",
       "4    0.068337  331.832725  76.053536   0.893667     1\n",
       "..        ...         ...        ...        ...   ...\n",
       "415  0.015739  301.623233  54.642763   0.794005     0\n",
       "416  0.035386  323.697431  66.708884   0.806427     1\n",
       "417  0.048838  138.307890  36.794285   0.821128     1\n",
       "418  0.031155  238.537279  66.460017   0.618295     0\n",
       "419  0.042347  315.821151  59.334730   0.812991     1\n",
       "\n",
       "[420 rows x 5 columns]"
      ]
     },
     "execution_count": 6,
     "metadata": {},
     "output_type": "execute_result"
    }
   ],
   "source": [
    "X_basic = np.load(\"X_basic.npy\")\n",
    "y_basic = (np.load(\"y_basic.npy\")*1)\n",
    "\n",
    "df = pd.DataFrame(X_basic,columns = [\"Power\",\"Pitch_mean\",\"Pitch_std\",\"Voiced_fr\"])\n",
    "df[\"Label\"] = y_basic\n",
    "df[\"Label\"] = df[\"Label\"].astype(\"category\")\n",
    "df"
   ]
  },
  {
   "cell_type": "markdown",
   "metadata": {},
   "source": [
    "* In the above dataframe, the label `0`  corresponds to the song `StarWars` and label `1` corresponds to the song `Potter`.\n",
    "* We will use the above dataset to obtain training(`X_train`,`y_train`), validation(`X_val`,`y_val`) and test(`X_test`,`y_test`) set.\n",
    "* Once we obtain these sets, we will fit the class `StandardScalar` to the training(`X_train`) set and then will use this fitted class to transform i.e normalize the features in `X_train` and `X_val`."
   ]
  },
  {
   "cell_type": "code",
   "execution_count": 7,
   "metadata": {},
   "outputs": [
    {
     "data": {
      "text/plain": [
       "((336, 4), (84, 4), (336,), (84,))"
      ]
     },
     "execution_count": 7,
     "metadata": {},
     "output_type": "execute_result"
    }
   ],
   "source": [
    "# Here we will obtain the test set and \"train_val\" set\n",
    "# \"train_val\" set represets the dataset which we will split further into training and validation set\n",
    "from sklearn.model_selection import train_test_split\n",
    "\n",
    "X_train_val, X_test, y_train_val, y_test = train_test_split(X_basic, y_basic, test_size=0.2, random_state=0)# test_size is 20% of data size\n",
    "X_train_val.shape, X_test.shape, y_train_val.shape, y_test.shape"
   ]
  },
  {
   "cell_type": "code",
   "execution_count": 8,
   "metadata": {},
   "outputs": [
    {
     "data": {
      "text/plain": [
       "((268, 4), (68, 4), (268,), (68,))"
      ]
     },
     "execution_count": 8,
     "metadata": {},
     "output_type": "execute_result"
    }
   ],
   "source": [
    "X_train, X_val, y_train, y_val = train_test_split(X_train_val, y_train_val, test_size=0.2, random_state=0)# test_size is 20% of data size\n",
    "X_train.shape, X_val.shape, y_train.shape, y_val.shape"
   ]
  },
  {
   "cell_type": "markdown",
   "metadata": {},
   "source": [
    "* Now we will fit the class `StandardScalar` to the training set and then transform i.e normalize the features in training and validation set."
   ]
  },
  {
   "cell_type": "code",
   "execution_count": 10,
   "metadata": {},
   "outputs": [],
   "source": [
    "from sklearn.preprocessing import StandardScaler\n",
    "scalar = StandardScaler()\n",
    "X_train_scaled = scalar.fit_transform(X_train) # X_train_scaled represets that the training set with predictors normalized\n",
    "X_val_scaled = scalar.transform(X_val) # X_val_scaled represets that the validation set with predictors normalized\n",
    "\n"
   ]
  },
  {
   "cell_type": "markdown",
   "metadata": {
    "id": "2qf7GN1aeXJI"
   },
   "source": [
    "# 8 Results\n",
    "\n",
    "Carry out your experiments here, explain your results."
   ]
  },
  {
   "cell_type": "markdown",
   "metadata": {},
   "source": [
    "# i) Logistic Regression Classifier"
   ]
  },
  {
   "cell_type": "code",
   "execution_count": 11,
   "metadata": {},
   "outputs": [],
   "source": [
    "from sklearn.linear_model import LogisticRegression\n",
    "\n",
    "# Here we fit our logistic regression classfier to the scaled training dataset \n",
    "LR = LogisticRegression(C=1e5, solver='lbfgs')\n",
    "LR.fit(X_train_scaled, y_train)\n",
    "\n",
    "yt_predict = LR.predict(X_train_scaled)\n",
    "yv_predict = LR.predict(X_val_scaled)"
   ]
  },
  {
   "cell_type": "code",
   "execution_count": 12,
   "metadata": {},
   "outputs": [
    {
     "name": "stdout",
     "output_type": "stream",
     "text": [
      "Training confusion matrix:\n",
      " [[61 71]\n",
      " [54 82]]\n",
      "\n",
      "Training Accuracy : 0.5335820895522388\n",
      "\n",
      "Validation confusion matrix:\n",
      " [[16 16]\n",
      " [22 14]]\n",
      "\n",
      "Valiadtion Accuracy : 0.4411764705882353\n"
     ]
    }
   ],
   "source": [
    "from sklearn.metrics import confusion_matrix, accuracy_score\n",
    "\n",
    "train_confusion_matrix = confusion_matrix(y_true = y_train, y_pred = yt_predict)\n",
    "val_confusion_matrix = confusion_matrix(y_true = y_val, y_pred = yv_predict)\n",
    "\n",
    "print('Training confusion matrix:\\n {}\\n'.format(train_confusion_matrix))\n",
    "print(\"Training Accuracy :\" ,LR.score(X_train_scaled,y_train))\n",
    "print()\n",
    "print('Validation confusion matrix:\\n {}\\n'.format(val_confusion_matrix))\n",
    "print(\"Valiadtion Accuracy :\" ,LR.score(X_val_scaled,y_val))"
   ]
  },
  {
   "cell_type": "code",
   "execution_count": 13,
   "metadata": {},
   "outputs": [
    {
     "name": "stdout",
     "output_type": "stream",
     "text": [
      "For the validation set, we obtained following:\n",
      "True Negative:  16\n",
      "False Positive:  16\n",
      "False Negative:  22\n",
      "True Positive:  14\n"
     ]
    }
   ],
   "source": [
    "tn,fp,fn,tp = confusion_matrix(y_true = y_val, y_pred = yv_predict).ravel()\n",
    "print(\"For the validation set, we obtained following:\")\n",
    "print(\"True Negative: \",  tn)\n",
    "print(\"False Positive: \", fp)\n",
    "print(\"False Negative: \", fn)\n",
    "print(\"True Positive: \",  tp)"
   ]
  },
  {
   "cell_type": "code",
   "execution_count": 14,
   "metadata": {},
   "outputs": [
    {
     "name": "stdout",
     "output_type": "stream",
     "text": [
      "Precision:  0.443859649122807\n",
      "Recall:  0.4444444444444444\n",
      "F1-score:  0.4406926406926407\n"
     ]
    }
   ],
   "source": [
    "from sklearn.metrics import precision_recall_fscore_support\n",
    "precision, recall,f1score, support =precision_recall_fscore_support(y_val,yv_predict, average =\"macro\")\n",
    "print(\"Precision: \",precision)\n",
    "print(\"Recall: \", recall)\n",
    "print(\"F1-score: \",f1score)"
   ]
  },
  {
   "cell_type": "code",
   "execution_count": 15,
   "metadata": {},
   "outputs": [
    {
     "data": {
      "text/plain": [
       "<sklearn.metrics._plot.roc_curve.RocCurveDisplay at 0x21a1fc79460>"
      ]
     },
     "execution_count": 15,
     "metadata": {},
     "output_type": "execute_result"
    },
    {
     "data": {
      "image/png": "[encoded data removed]",
      "text/plain": [
       "<Figure size 432x288 with 1 Axes>"
      ]
     },
     "metadata": {
      "needs_background": "light"
     },
     "output_type": "display_data"
    }
   ],
   "source": [
    "from sklearn.metrics import RocCurveDisplay\n",
    "RocCurveDisplay.from_predictions(y_val, yv_predict)"
   ]
  },
  {
   "cell_type": "markdown",
   "metadata": {},
   "source": [
    "* For Logistic Regression Classifier, we obtain training accuracy of 53.36% whereas the validation accuracy is 44.12% which is very poor. This indicates there is some degree of over-fitting. `Precision`,`recall` and `F1-score` are very similar. Looking at the ROC graph we can see that its below the line `y=x` and also the `AUC score` is just 0.44.\n",
    "\n",
    "* Overall, Logistic Regression does a very poor job in classifying the unseen samples."
   ]
  },
  {
   "cell_type": "markdown",
   "metadata": {},
   "source": [
    "# ii) K-Nearest Neighbours(KNN)"
   ]
  },
  {
   "cell_type": "markdown",
   "metadata": {},
   "source": [
    "* To find the best value of K that would give us the highest validation accuracy we used a for-loop and in each iteration we incremented the value of K by 1 and we did this for 10 different K values. In each iteration we also appended validation accuracy to the empty list `validation_accuracy` and used it to plot the below graph."
   ]
  },
  {
   "cell_type": "code",
   "execution_count": 16,
   "metadata": {},
   "outputs": [
    {
     "data": {
      "image/png": "[encoded data removed]",
      "text/plain": [
       "<Figure size 432x288 with 1 Axes>"
      ]
     },
     "metadata": {
      "needs_background": "light"
     },
     "output_type": "display_data"
    }
   ],
   "source": [
    "from sklearn.neighbors import KNeighborsClassifier\n",
    "validation_accuracy=[] # empty list\n",
    "for k in range(1,11):\n",
    "    knn = KNeighborsClassifier(n_neighbors=k)\n",
    "    knn.fit(X_train_scaled, y_train)\n",
    "    validation_accuracy.append(knn.score(X_val_scaled,y_val)) # append the validation accuracy to the empty list above\n",
    "    \n",
    "x = [k for k in range(1,11)]\n",
    "y = [i for i in validation_accuracy]\n",
    "plt.xlabel(\"K\")\n",
    "plt.ylabel(\"Validation accuracy\")\n",
    "plt.title(\"Validation accuracy for different values of K\")\n",
    "plt.axhline(y = max(validation_accuracy), color='red', linestyle='--')\n",
    "plt.plot(x,y)\n",
    "plt.show()"
   ]
  },
  {
   "cell_type": "code",
   "execution_count": 17,
   "metadata": {},
   "outputs": [
    {
     "name": "stdout",
     "output_type": "stream",
     "text": [
      "Training dataset accuracy: 0.7649253731343284.\n",
      "Validation dataset accuracy: 0.6323529411764706.\n"
     ]
    }
   ],
   "source": [
    "from sklearn.neighbors import KNeighborsClassifier\n",
    "knn = KNeighborsClassifier(n_neighbors=7)\n",
    "knn.fit(X_train_scaled, y_train)\n",
    "print('Training dataset accuracy: {0}.'.format(knn.score(X_train_scaled, y_train)))\n",
    "print('Validation dataset accuracy: {0}.'.format(knn.score(X_val_scaled, y_val)))\n",
    "\n",
    "yt_predict_knn = knn.predict(X_train_scaled)\n",
    "yv_predict_knn = knn.predict(X_val_scaled)"
   ]
  },
  {
   "cell_type": "code",
   "execution_count": 19,
   "metadata": {},
   "outputs": [
    {
     "name": "stdout",
     "output_type": "stream",
     "text": [
      "Training confusion matrix:\n",
      " [[ 98  34]\n",
      " [ 29 107]]\n",
      "\n",
      "\n",
      "Validation confusion matrix:\n",
      " [[21 11]\n",
      " [14 22]]\n",
      "\n"
     ]
    }
   ],
   "source": [
    "from sklearn.metrics import confusion_matrix, accuracy_score\n",
    "\n",
    "train_confusion_matrix = confusion_matrix(y_true = y_train, y_pred = yt_predict_knn)\n",
    "val_confusion_matrix = confusion_matrix(y_true = y_val, y_pred = yv_predict_knn)\n",
    "\n",
    "print('Training confusion matrix:\\n {}\\n'.format(train_confusion_matrix))\n",
    "\n",
    "print()\n",
    "\n",
    "print('Validation confusion matrix:\\n {}\\n'.format(val_confusion_matrix))"
   ]
  },
  {
   "cell_type": "code",
   "execution_count": 20,
   "metadata": {},
   "outputs": [
    {
     "name": "stdout",
     "output_type": "stream",
     "text": [
      "For the validation set, we obtained following:\n",
      "True Negative:  21\n",
      "False Positive:  11\n",
      "False Negative:  14\n",
      "True Positive:  22\n"
     ]
    }
   ],
   "source": [
    "tn,fp,fn,tp = confusion_matrix(y_true = y_val, y_pred = yv_predict_knn).ravel()\n",
    "print(\"For the validation set, we obtained following:\")\n",
    "print(\"True Negative: \",  tn)\n",
    "print(\"False Positive: \", fp)\n",
    "print(\"False Negative: \", fn)\n",
    "print(\"True Positive: \",  tp)"
   ]
  },
  {
   "cell_type": "code",
   "execution_count": 21,
   "metadata": {},
   "outputs": [
    {
     "name": "stdout",
     "output_type": "stream",
     "text": [
      "Precision:  0.6333333333333333\n",
      "Recall:  0.6336805555555556\n",
      "F1-score:  0.6322734155310404\n"
     ]
    }
   ],
   "source": [
    "from sklearn.metrics import precision_recall_fscore_support\n",
    "precision, recall,f1score, support =precision_recall_fscore_support(y_val,yv_predict_knn, average =\"macro\")\n",
    "print(\"Precision: \",precision)\n",
    "print(\"Recall: \", recall)\n",
    "print(\"F1-score: \",f1score)"
   ]
  },
  {
   "cell_type": "code",
   "execution_count": 22,
   "metadata": {},
   "outputs": [
    {
     "data": {
      "text/plain": [
       "<sklearn.metrics._plot.roc_curve.RocCurveDisplay at 0x21a282171c0>"
      ]
     },
     "execution_count": 22,
     "metadata": {},
     "output_type": "execute_result"
    },
    {
     "data": {
      "image/png": "[encoded data removed]",
      "text/plain": [
       "<Figure size 432x288 with 1 Axes>"
      ]
     },
     "metadata": {
      "needs_background": "light"
     },
     "output_type": "display_data"
    }
   ],
   "source": [
    "from sklearn.metrics import RocCurveDisplay\n",
    "RocCurveDisplay.from_predictions(y_val, yv_predict_knn)"
   ]
  },
  {
   "cell_type": "markdown",
   "metadata": {},
   "source": [
    "* For K-Nearest Neighbours Classifier, we obtain training accuracy of 76.49% whereas the validation accuracy is 63.24% which is poor. `Precision`,`recall` and `F1-score` are very similar. Although the ROC graph is above the line `y=x`, the `AUC score` is just 0.63 which is not a sign of a good classifier.\n",
    "\n",
    "\n",
    "* Overall, KNN does also does a poor job in classifying the unseen samples but it performs better than Logistic Regression Classifier."
   ]
  },
  {
   "cell_type": "markdown",
   "metadata": {},
   "source": [
    "# iii) Random Forest Classifier"
   ]
  },
  {
   "cell_type": "code",
   "execution_count": 23,
   "metadata": {},
   "outputs": [
    {
     "name": "stdout",
     "output_type": "stream",
     "text": [
      "Training Accuracy : 1.0\n",
      "Validation Accuracy : 0.6617647058823529\n"
     ]
    }
   ],
   "source": [
    "from sklearn.ensemble import RandomForestClassifier\n",
    "RF = RandomForestClassifier(n_estimators=150,max_features=\"auto\",random_state=0)\n",
    "RF.fit(X_train_scaled,y_train)\n",
    "\n",
    "yt_predict_RF = RF.predict(X_train_scaled)\n",
    "yv_predict_RF = RF.predict(X_val_scaled)\n",
    "\n",
    "\n",
    "print(\"Training Accuracy :\" ,RF.score(X_train_scaled,y_train))\n",
    "print(\"Validation Accuracy :\" ,RF.score(X_val_scaled,y_val))"
   ]
  },
  {
   "cell_type": "code",
   "execution_count": 24,
   "metadata": {},
   "outputs": [
    {
     "name": "stdout",
     "output_type": "stream",
     "text": [
      "Training confusion matrix:\n",
      " [[132   0]\n",
      " [  0 136]]\n",
      "\n",
      "\n",
      "Validation confusion matrix:\n",
      " [[19 13]\n",
      " [10 26]]\n",
      "\n"
     ]
    }
   ],
   "source": [
    "from sklearn.metrics import confusion_matrix, accuracy_score\n",
    "\n",
    "train_confusion_matrix = confusion_matrix(y_true = y_train, y_pred = yt_predict_RF)\n",
    "val_confusion_matrix = confusion_matrix(y_true = y_val, y_pred = yv_predict_RF)\n",
    "\n",
    "print('Training confusion matrix:\\n {}\\n'.format(train_confusion_matrix))\n",
    "\n",
    "print()\n",
    "\n",
    "print('Validation confusion matrix:\\n {}\\n'.format(val_confusion_matrix))\n"
   ]
  },
  {
   "cell_type": "code",
   "execution_count": 25,
   "metadata": {},
   "outputs": [
    {
     "name": "stdout",
     "output_type": "stream",
     "text": [
      "For the validation set, we obtained following:\n",
      "True Negative:  19\n",
      "False Positive:  13\n",
      "False Negative:  10\n",
      "True Positive:  26\n"
     ]
    }
   ],
   "source": [
    "tn,fp,fn,tp = confusion_matrix(y_true = y_val, y_pred = yv_predict_RF).ravel()\n",
    "print(\"For the validation set, we obtained following:\")\n",
    "print(\"True Negative: \",  tn)\n",
    "print(\"False Positive: \", fp)\n",
    "print(\"False Negative: \", fn)\n",
    "print(\"True Positive: \",  tp)"
   ]
  },
  {
   "cell_type": "code",
   "execution_count": 26,
   "metadata": {},
   "outputs": [
    {
     "name": "stdout",
     "output_type": "stream",
     "text": [
      "Precision:  0.6609195402298851\n",
      "Recall:  0.6579861111111112\n",
      "F1-score:  0.6581420765027322\n"
     ]
    }
   ],
   "source": [
    "from sklearn.metrics import precision_recall_fscore_support\n",
    "precision, recall,f1score, support =precision_recall_fscore_support(y_val,yv_predict_RF, average =\"macro\")\n",
    "print(\"Precision: \",precision)\n",
    "print(\"Recall: \", recall)\n",
    "print(\"F1-score: \",f1score)"
   ]
  },
  {
   "cell_type": "code",
   "execution_count": 27,
   "metadata": {},
   "outputs": [
    {
     "data": {
      "text/plain": [
       "<sklearn.metrics._plot.roc_curve.RocCurveDisplay at 0x21a282d1e50>"
      ]
     },
     "execution_count": 27,
     "metadata": {},
     "output_type": "execute_result"
    },
    {
     "data": {
      "image/png": "[encoded data removed]",
      "text/plain": [
       "<Figure size 432x288 with 1 Axes>"
      ]
     },
     "metadata": {
      "needs_background": "light"
     },
     "output_type": "display_data"
    }
   ],
   "source": [
    "from sklearn.metrics import RocCurveDisplay\n",
    "RocCurveDisplay.from_predictions(y_val, yv_predict_RF)"
   ]
  },
  {
   "cell_type": "markdown",
   "metadata": {},
   "source": [
    "* For Random Forest Classifier, we obtain training accuracy of 100% whereas the validation accuracy is 66.18% . `Precision` is slighlty higher than `recall` since 26 `Potter` songs were correctly identified and `F1-score` is slightly higher than the `F1-score` obtained for KNN. The ROC graph is above the line `y=x`, with the `AUC score` of just 0.66 which is not a sign of a good classifier.\n",
    "\n",
    "\n",
    "* Overall, Random Forest Classifier also does a poor job in classifying the unseen samples but in terms of performance and validation accuracy it is better than Logistic Regression Classifier and KNN."
   ]
  },
  {
   "cell_type": "markdown",
   "metadata": {},
   "source": [
    "* Now using pipeline,we will train the model on the training set(`X_train_val` and `y_train_val`) and will evaluate the deployment performance on the test set."
   ]
  },
  {
   "cell_type": "code",
   "execution_count": 29,
   "metadata": {},
   "outputs": [
    {
     "name": "stdout",
     "output_type": "stream",
     "text": [
      "Training Accuracy : 1.0\n",
      "Test Accuracy : 0.6071428571428571\n"
     ]
    }
   ],
   "source": [
    "from sklearn.pipeline import Pipeline\n",
    "RFC = RandomForestClassifier(n_estimators=150,max_features=\"auto\",random_state=0)\n",
    "pipe = Pipeline([(\"scaler\",StandardScaler()),\n",
    "                     (\"classifier\",RFC)\n",
    "                    ])\n",
    "\n",
    "pipe.fit(X_train_val,y_train_val)\n",
    "pipe.score(X_test,y_test)\n",
    "\n",
    "print(\"Training Accuracy :\" ,pipe.score(X_train_val,y_train_val))\n",
    "print(\"Test Accuracy :\" ,pipe.score(X_test,y_test))"
   ]
  },
  {
   "cell_type": "markdown",
   "metadata": {
    "id": "fSrJCR_cekPO"
   },
   "source": [
    "# 9 Conclusions\n",
    "\n",
    "Your conclusions, improvements, etc should go here"
   ]
  },
  {
   "cell_type": "markdown",
   "metadata": {},
   "source": [
    "* We evaluated 3 classifiers which are `Logistic Regression classifier`, `K-Nearest Neighbour(KNN) classifier` and `Random Forest classifier`. We fitted all these model on the training set which consisted of 4 features extracted from 268 audio samples. We then validated the model by testing it on the validation set which consisted of 4 features extracted from 68 audio samples and we chose Random Forest classifier as it gave the highest validation accuracy.\n",
    "\n",
    "* After that, we trained the Random Forest classifier on the 4 features that were extracted from the 80% of the original sample i.e 336 audio samples and finally tested the model on the test dataset which consisted of 4 features extracted from 84 audio samples, giving the `test accuracy` of `60.71% ` which is quite poor.\n",
    "\n",
    "* One of the reason for such low accuracies can be that the four features are not highly significant in predicting the song. So we can improve the accuracies by adding more features such as `Zero Crossing Rate`, `Mel-Frequency Cepstral Coefficients(MFCC)` and `Tempo`. \n",
    "\n"
   ]
  }
 ],
 "metadata": {
  "colab": {
   "collapsed_sections": [],
   "name": "ECS7020P_miniproject_submission.ipynb",
   "provenance": []
  },
  "kernelspec": {
   "display_name": "Python 3 (ipykernel)",
   "language": "python",
   "name": "python3"
  },
  "language_info": {
   "codemirror_mode": {
    "name": "ipython",
    "version": 3
   },
   "file_extension": ".py",
   "mimetype": "text/x-python",
   "name": "python",
   "nbconvert_exporter": "python",
   "pygments_lexer": "ipython3",
   "version": "3.9.12"
  }
 },
 "nbformat": 4,
 "nbformat_minor": 1
}
